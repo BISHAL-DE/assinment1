{
 "cells": [
  {
   "cell_type": "markdown",
   "id": "b5be31fd-c2d9-492f-a36b-cbf87ed60665",
   "metadata": {},
   "source": [
    "Q1: We can comment code using #. Before any line input # and it will be convreted as cooment.\n",
    "       Comment can be sigle line comment, multiple line comment etc.\n"
   ]
  },
  {
   "cell_type": "markdown",
   "id": "e9b80042-348b-4de9-9a99-90e5300981f5",
   "metadata": {},
   "source": [
    "Q2: Variable is a name and we can assign data in it.\n",
    "Example: a=\"Bishal\" , Here a is variable and we are assigning str type data in it."
   ]
  },
  {
   "cell_type": "markdown",
   "id": "2857686e-1552-468b-bf3c-dfd2793795bf",
   "metadata": {},
   "source": [
    "Q3: a=7 \n",
    "    float(a) \n",
    "    It will converted into floating point number"
   ]
  },
  {
   "cell_type": "markdown",
   "id": "07cdecd8-5bc7-4529-92ee-24d08e0c4ad7",
   "metadata": {},
   "source": [
    "Q6: Complex  number is a combination of real and imaginay number.\n",
    "Example: 4+5j"
   ]
  },
  {
   "cell_type": "markdown",
   "id": "753d3bf8-db44-4cf6-811b-d9a3b778da5e",
   "metadata": {},
   "source": [
    "Q7: age= 25"
   ]
  },
  {
   "cell_type": "markdown",
   "id": "a78314df-0a46-44c5-a993-236eda0bc5a8",
   "metadata": {},
   "source": [
    "Q8:price=9.99 and this is a floating point number type data "
   ]
  },
  {
   "cell_type": "markdown",
   "id": "e7e865f4-a02b-4a82-b906-4f3c71eacd94",
   "metadata": {},
   "source": [
    "Q9:name=\"bishal\"\n",
    "   print(name)\n",
    "    "
   ]
  },
  {
   "cell_type": "markdown",
   "id": "bd2ca716-e570-4721-a60f-9f45416c3bdf",
   "metadata": {},
   "source": [
    "Q10: a=\"Hello,World\"\n",
    "     print(a[6:11])"
   ]
  },
  {
   "cell_type": "markdown",
   "id": "6ad4ee0d-ca91-43c2-ba46-032d16f49e5c",
   "metadata": {},
   "source": [
    "Q5:\n",
    "my_list=[1,2,3,4,5]\n",
    "sub_list=[]\n",
    "sub_list=my_list[1:3]\n",
    "my_list.append(sub_list)"
   ]
  }
 ],
 "metadata": {
  "kernelspec": {
   "display_name": "Python 3 (ipykernel)",
   "language": "python",
   "name": "python3"
  },
  "language_info": {
   "codemirror_mode": {
    "name": "ipython",
    "version": 3
   },
   "file_extension": ".py",
   "mimetype": "text/x-python",
   "name": "python",
   "nbconvert_exporter": "python",
   "pygments_lexer": "ipython3",
   "version": "3.10.8"
  }
 },
 "nbformat": 4,
 "nbformat_minor": 5
}
